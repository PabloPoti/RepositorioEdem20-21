{
  "nbformat": 4,
  "nbformat_minor": 0,
  "metadata": {
    "colab": {
      "name": "00.Introduction_to_Apache_Spark.ipynb",
      "provenance": [],
      "collapsed_sections": [
        "yzU_4EjAjZgh"
      ],
      "toc_visible": true,
      "include_colab_link": true
    },
    "kernelspec": {
      "name": "python3",
      "display_name": "Python 3"
    }
  },
  "cells": [
    {
      "cell_type": "markdown",
      "metadata": {
        "id": "view-in-github",
        "colab_type": "text"
      },
      "source": [
        "<a href=\"https://colab.research.google.com/github/PabloPoti/RepositorioEdem20-21/blob/main/00_Introduction_to_Apache_Spark.ipynb\" target=\"_parent\"><img src=\"https://colab.research.google.com/assets/colab-badge.svg\" alt=\"Open In Colab\"/></a>"
      ]
    },
    {
      "cell_type": "markdown",
      "metadata": {
        "id": "Jq9d0x1OTh2N"
      },
      "source": [
        "# Prerrequisites"
      ]
    },
    {
      "cell_type": "markdown",
      "metadata": {
        "id": "2_DQBVj_KNvL"
      },
      "source": [
        "Installing Spark\n",
        "\n",
        "---\n",
        "\n"
      ]
    },
    {
      "cell_type": "code",
      "metadata": {
        "id": "xEbGSM3_NM-z"
      },
      "source": [
        "!apt-get install openjdk-11-jdk-headless -qq > /dev/null\n",
        "!wget -q https://archive.apache.org/dist/spark/spark-3.2.0/spark-3.2.0-bin-hadoop3.2.tgz\n",
        "!tar xf spark-3.2.0-bin-hadoop3.2.tgz\n",
        "!pip -q install findspark"
      ],
      "execution_count": 1,
      "outputs": []
    },
    {
      "cell_type": "code",
      "metadata": {
        "id": "ooP8hZlothY4"
      },
      "source": [
        "import os\n",
        "os.environ[\"JAVA_HOME\"] = \"/usr/lib/jvm/java-11-openjdk-amd64\"\n",
        "os.environ[\"SPARK_HOME\"] = \"/content/spark-3.2.0-bin-hadoop3.2\""
      ],
      "execution_count": 2,
      "outputs": []
    },
    {
      "cell_type": "code",
      "metadata": {
        "id": "qqaK14EOtgxj"
      },
      "source": [
        "import findspark\n",
        "findspark.init()"
      ],
      "execution_count": 3,
      "outputs": []
    },
    {
      "cell_type": "markdown",
      "metadata": {
        "id": "rdFv-xxITa2J"
      },
      "source": [
        "Starting Spark Session and print the version\n",
        "\n",
        "\n",
        "---\n"
      ]
    },
    {
      "cell_type": "code",
      "metadata": {
        "id": "BDLMbVBATf9K",
        "colab": {
          "base_uri": "https://localhost:8080/",
          "height": 36
        },
        "outputId": "57f7c5b8-8e9a-4de9-b9ac-54a091382cf4"
      },
      "source": [
        "from pyspark.sql import SparkSession\n",
        "from pyspark.sql.functions import *\n",
        "\n",
        "# create the session\n",
        "spark = SparkSession \\\n",
        "        .builder \\\n",
        "        .master(\"local[*]\") \\\n",
        "        .getOrCreate()\n",
        "\n",
        "spark.version"
      ],
      "execution_count": 4,
      "outputs": [
        {
          "output_type": "execute_result",
          "data": {
            "application/vnd.google.colaboratory.intrinsic+json": {
              "type": "string"
            },
            "text/plain": [
              "'3.2.0'"
            ]
          },
          "metadata": {},
          "execution_count": 4
        }
      ]
    },
    {
      "cell_type": "markdown",
      "metadata": {
        "id": "FNiYuI5dGo8Y"
      },
      "source": [
        "Creating tunnel</br>\n",
        "**To Check the Spark UI, open the URL printed by running the above command : https://######/jobs/, /SQL/**\n"
      ]
    },
    {
      "cell_type": "code",
      "metadata": {
        "id": "x4-7fXZiGmqB",
        "colab": {
          "base_uri": "https://localhost:8080/",
          "height": 35
        },
        "outputId": "92c4f385-40cf-441b-ebf8-f200abdfbea4"
      },
      "source": [
        " from google.colab.output import eval_js\n",
        " print(eval_js(\"google.colab.kernel.proxyPort(4040)\") + \"jobs/\")"
      ],
      "execution_count": 5,
      "outputs": [
        {
          "output_type": "stream",
          "name": "stdout",
          "text": [
            "https://du5d0dgk6an-496ff2e9c6d22116-4040-colab.googleusercontent.com/jobs/\n"
          ]
        }
      ]
    },
    {
      "cell_type": "markdown",
      "metadata": {
        "id": "8Z0h3dF9Vg4X"
      },
      "source": [
        "# Descargar Datasets"
      ]
    },
    {
      "cell_type": "code",
      "metadata": {
        "id": "KBDin-0sXgyI",
        "colab": {
          "base_uri": "https://localhost:8080/"
        },
        "outputId": "51db6001-7033-4f04-ea92-ecc57de938eb"
      },
      "source": [
        "!mkdir -p /dataset\n",
        "!wget -q https://github.com/masfworld/datahack_docker/raw/master/zeppelin/data/frankenstein.txt -P /dataset\n",
        "!wget -q https://github.com/masfworld/datahack_docker/raw/master/zeppelin/data/el_quijote.txt -P /dataset\n",
        "!wget -q https://github.com/masfworld/datahack_docker/raw/master/zeppelin/data/characters.csv -P /dataset\n",
        "!wget -q https://github.com/masfworld/datahack_docker/raw/master/zeppelin/data/planets.csv -P /dataset\n",
        "!ls /dataset"
      ],
      "execution_count": 6,
      "outputs": [
        {
          "output_type": "stream",
          "name": "stdout",
          "text": [
            "characters.csv\tel_quijote.txt\tfrankenstein.txt  planets.csv\n"
          ]
        }
      ]
    },
    {
      "cell_type": "markdown",
      "metadata": {
        "id": "02Zwm3NRXS_I"
      },
      "source": [
        "# RDD\n",
        "\n",
        "---\n",
        "\n"
      ]
    },
    {
      "cell_type": "markdown",
      "metadata": {
        "id": "h1o6f6QOjTcZ"
      },
      "source": [
        "## Example 1"
      ]
    },
    {
      "cell_type": "code",
      "metadata": {
        "id": "HnbafeFCVk8d",
        "colab": {
          "base_uri": "https://localhost:8080/",
          "height": 36
        },
        "outputId": "f4d12eb8-b2b6-4610-b4a3-9b6785ed0527"
      },
      "source": [
        "textFile = spark.sparkContext.textFile(\"/dataset/frankenstein.txt\")\n",
        "textFile.first()"
      ],
      "execution_count": 7,
      "outputs": [
        {
          "output_type": "execute_result",
          "data": {
            "application/vnd.google.colaboratory.intrinsic+json": {
              "type": "string"
            },
            "text/plain": [
              "'FRANKENSTEIN'"
            ]
          },
          "metadata": {},
          "execution_count": 7
        }
      ]
    },
    {
      "cell_type": "code",
      "source": [
        "textFile"
      ],
      "metadata": {
        "colab": {
          "base_uri": "https://localhost:8080/"
        },
        "id": "UthnqtH08DNg",
        "outputId": "285e1466-39f9-4a43-d2c0-484c9bd182c6"
      },
      "execution_count": 10,
      "outputs": [
        {
          "output_type": "execute_result",
          "data": {
            "text/plain": [
              "/dataset/frankenstein.txt MapPartitionsRDD[1] at textFile at NativeMethodAccessorImpl.java:0"
            ]
          },
          "metadata": {},
          "execution_count": 10
        }
      ]
    },
    {
      "cell_type": "markdown",
      "metadata": {
        "id": "9a00GmwOZmM2"
      },
      "source": [
        "\n",
        "Creation of paralelized collection de colecciones paralelizadas\n",
        "This is a fast way to create a RDD:"
      ]
    },
    {
      "cell_type": "markdown",
      "metadata": {
        "id": "yzU_4EjAjZgh"
      },
      "source": [
        "## Example 2"
      ]
    },
    {
      "cell_type": "code",
      "metadata": {
        "id": "SgireGq6YWEj",
        "colab": {
          "base_uri": "https://localhost:8080/"
        },
        "outputId": "fa83170f-ebaf-4cbb-db02-78d6793afc19"
      },
      "source": [
        "distData = spark.sparkContext.parallelize([25, 20, 15, 10, 5])\n",
        "distData.reduce(lambda x ,y: x + y)"
      ],
      "execution_count": 9,
      "outputs": [
        {
          "output_type": "execute_result",
          "data": {
            "text/plain": [
              "75"
            ]
          },
          "metadata": {},
          "execution_count": 9
        }
      ]
    },
    {
      "cell_type": "markdown",
      "metadata": {
        "id": "bX0FXU7JawRm"
      },
      "source": [
        "## Exercise 1\n",
        "Count the number of lines for `el_quijote.txt` file\n",
        "\n",
        "---\n",
        "\n"
      ]
    },
    {
      "cell_type": "code",
      "metadata": {
        "id": "mCDo_-PiaEVl",
        "colab": {
          "base_uri": "https://localhost:8080/"
        },
        "outputId": "15a165b8-4b36-4a33-915b-6d4e29d8792c"
      },
      "source": [
        "textFile = spark.sparkContext.textFile(\"/dataset/el_quijote.txt\")\n",
        "textFile.count()"
      ],
      "execution_count": 13,
      "outputs": [
        {
          "output_type": "execute_result",
          "data": {
            "text/plain": [
              "2186"
            ]
          },
          "metadata": {},
          "execution_count": 13
        }
      ]
    },
    {
      "cell_type": "markdown",
      "metadata": {
        "id": "prvVhMD4a5o7"
      },
      "source": [
        "## Exercise 2\n",
        "Print the first line of the file `el_quijote.txt`\n",
        "\n",
        "---\n",
        "\n"
      ]
    },
    {
      "cell_type": "code",
      "metadata": {
        "id": "1vgL2Upsa-Qg",
        "colab": {
          "base_uri": "https://localhost:8080/",
          "height": 36
        },
        "outputId": "9fbb4eb0-a77b-40bc-d42b-38777f36c10f"
      },
      "source": [
        "textFile.first()"
      ],
      "execution_count": 15,
      "outputs": [
        {
          "output_type": "execute_result",
          "data": {
            "application/vnd.google.colaboratory.intrinsic+json": {
              "type": "string"
            },
            "text/plain": [
              "'DON QUIJOTE DE LA MANCHA'"
            ]
          },
          "metadata": {},
          "execution_count": 15
        }
      ]
    },
    {
      "cell_type": "markdown",
      "metadata": {
        "id": "wAxxBSrBb92y"
      },
      "source": [
        "## Transformations and Actions in RDDs "
      ]
    },
    {
      "cell_type": "markdown",
      "metadata": {
        "id": "D-jBGb_acVuZ"
      },
      "source": [
        "### Actions"
      ]
    },
    {
      "cell_type": "markdown",
      "metadata": {
        "id": "4fc-rQBNjnNi"
      },
      "source": [
        "### Example 3"
      ]
    },
    {
      "cell_type": "code",
      "metadata": {
        "id": "qvxep4yubxtC"
      },
      "source": [
        "print(textFile.count()) # Number of elements in RDD\n",
        "print(textFile.first()) # First element in RDD"
      ],
      "execution_count": null,
      "outputs": []
    },
    {
      "cell_type": "markdown",
      "metadata": {
        "id": "FYhM504ycl9K"
      },
      "source": [
        "### Transformaciones"
      ]
    },
    {
      "cell_type": "markdown",
      "metadata": {
        "id": "irxzzmfwjyYi"
      },
      "source": [
        "### Example 4"
      ]
    },
    {
      "cell_type": "code",
      "metadata": {
        "id": "MpkUk7t9cfoL"
      },
      "source": [
        "# ReduceByKey\n",
        "lines = spark.sparkContext.textFile(\"/dataset/frankenstein.txt\")\n",
        "pairs = lines.map(lambda s: (s, 1))\n",
        "counts = pairs.reduceByKey(lambda a, b: a + b).cache()\n",
        "counts.count()\n",
        "counts.collect()"
      ],
      "execution_count": null,
      "outputs": []
    },
    {
      "cell_type": "code",
      "metadata": {
        "id": "TfajHIRsejog"
      },
      "source": [
        "# SortByKey\n",
        "sorted = counts.sortByKey()\n",
        "sorted.collect()"
      ],
      "execution_count": null,
      "outputs": []
    },
    {
      "cell_type": "markdown",
      "metadata": {
        "id": "a6c2qVSLj4Cy"
      },
      "source": [
        "### Example 5"
      ]
    },
    {
      "cell_type": "code",
      "metadata": {
        "id": "fDwoLMbbdGPN"
      },
      "source": [
        "# Filter\n",
        "\n",
        "linesWithSpark = textFile.filter(lambda line: \"the\" in line)\n",
        "linesWithSpark.count()"
      ],
      "execution_count": null,
      "outputs": []
    },
    {
      "cell_type": "markdown",
      "metadata": {
        "id": "ngS6b5jUfYen"
      },
      "source": [
        "### Exercise 3\n",
        "Get the word count for the file `frankenstein.txt`\n",
        "\n",
        "---"
      ]
    },
    {
      "cell_type": "code",
      "metadata": {
        "id": "wqbwlZn8fVNd",
        "colab": {
          "base_uri": "https://localhost:8080/"
        },
        "outputId": "3d224d90-d8a1-495a-f66f-cff7159b04fd"
      },
      "source": [
        "lines = spark.sparkContext.textFile(\"/dataset/frankenstein.txt\")\n",
        "pairs = lines.flatMap(lambda a: a.split(\" \")).map(lambda a: (a, 1))\n",
        "counts = pairs.reduceByKey(lambda a, b: a + b).cache()\n",
        "counts.collect()"
      ],
      "execution_count": 17,
      "outputs": [
        {
          "output_type": "execute_result",
          "data": {
            "text/plain": [
              "[('FRANKENSTEIN', 1),\n",
              " ('', 3488),\n",
              " ('The', 256),\n",
              " ('Mary', 1),\n",
              " ('Wollstonecraft', 1),\n",
              " ('(Godwin)', 1),\n",
              " ('Shelley', 1),\n",
              " ('Letter', 4),\n",
              " ('1', 2),\n",
              " ('St.', 5),\n",
              " ('17—', 7),\n",
              " ('TO', 2),\n",
              " ('hear', 15),\n",
              " ('no', 146),\n",
              " ('disaster', 2),\n",
              " ('of', 2634),\n",
              " ('an', 208),\n",
              " ('enterprise', 1),\n",
              " ('have', 356),\n",
              " ('regarded', 6),\n",
              " ('evil', 16),\n",
              " ('forebodings.', 1),\n",
              " ('yesterday,', 1),\n",
              " ('task', 12),\n",
              " ('is', 296),\n",
              " ('assure', 4),\n",
              " ('sister', 7),\n",
              " ('in', 1072),\n",
              " ('success', 6),\n",
              " ('am', 114),\n",
              " ('already', 32),\n",
              " ('far', 38),\n",
              " ('as', 477),\n",
              " ('walk', 4),\n",
              " ('streets', 4),\n",
              " ('feel', 40),\n",
              " ('cold', 21),\n",
              " ('upon', 123),\n",
              " ('braces', 1),\n",
              " ('fills', 4),\n",
              " ('Do', 12),\n",
              " ('understand', 13),\n",
              " ('this', 298),\n",
              " ('feeling?', 1),\n",
              " ('travelled', 5),\n",
              " ('towards', 93),\n",
              " ('foretaste', 1),\n",
              " ('icy', 3),\n",
              " ('promise,', 2),\n",
              " ('daydreams', 2),\n",
              " ('become', 32),\n",
              " ('more', 149),\n",
              " ('vivid.', 1),\n",
              " ('try', 4),\n",
              " ('pole', 2),\n",
              " ('frost', 4),\n",
              " ('desolation;', 3),\n",
              " ('ever', 40),\n",
              " ('presents', 3),\n",
              " ('imagination', 14),\n",
              " ('region', 4),\n",
              " ('beauty', 19),\n",
              " ('There,', 1),\n",
              " ('Margaret,', 6),\n",
              " ('sun', 38),\n",
              " ('visible,', 3),\n",
              " ('broad', 2),\n",
              " ('disk', 2),\n",
              " ('just', 19),\n",
              " ('skirting', 1),\n",
              " ('leave,', 1),\n",
              " ('sister,', 13),\n",
              " ('put', 14),\n",
              " ('preceding', 6),\n",
              " ('navigators—there', 1),\n",
              " ('are', 164),\n",
              " ('banished;', 1),\n",
              " ('sailing', 1),\n",
              " ('sea,', 9),\n",
              " ('we', 114),\n",
              " ('may', 92),\n",
              " ('wafted', 4),\n",
              " ('wonders', 3),\n",
              " ('Its', 3),\n",
              " ('example,', 2),\n",
              " ('phenomena', 2),\n",
              " ('solitudes.', 1),\n",
              " ('What', 32),\n",
              " ('country', 18),\n",
              " ('light?', 1),\n",
              " ('there', 52),\n",
              " ('discover', 16),\n",
              " ('wondrous', 6),\n",
              " ('power', 32),\n",
              " ('attracts', 1),\n",
              " ('regulate', 2),\n",
              " ('thousand', 27),\n",
              " ('only', 119),\n",
              " ('voyage', 11),\n",
              " ('render', 10),\n",
              " ('eccentricities', 1),\n",
              " ('consistent', 1),\n",
              " ('forever.', 10),\n",
              " ('curiosity', 8),\n",
              " ('world', 24),\n",
              " ('never', 60),\n",
              " ('before', 122),\n",
              " ('tread', 2),\n",
              " ('man.', 18),\n",
              " ('These', 17),\n",
              " ('enticements,', 1),\n",
              " ('conquer', 1),\n",
              " ('fear', 24),\n",
              " ('danger', 6),\n",
              " ('commence', 12),\n",
              " ('child', 18),\n",
              " ('feels', 1),\n",
              " ('when', 261),\n",
              " ('he', 446),\n",
              " ('his', 500),\n",
              " ('holiday', 1),\n",
              " ('native', 28),\n",
              " ('But', 128),\n",
              " ('these', 130),\n",
              " ('conjectures', 1),\n",
              " ('cannot', 46),\n",
              " ('contest', 1),\n",
              " ('benefit', 5),\n",
              " ('mankind,', 2),\n",
              " ('last', 30),\n",
              " ('near', 35),\n",
              " ('countries,', 1),\n",
              " ('at', 289),\n",
              " ('months', 31),\n",
              " ('requisite;', 1),\n",
              " ('secret', 9),\n",
              " ('possible,', 3),\n",
              " ('reflections', 10),\n",
              " ('dispelled', 1),\n",
              " ('agitation', 10),\n",
              " ('letter,', 4),\n",
              " ('heart', 44),\n",
              " ('enthusiasm', 8),\n",
              " ('contributes', 1),\n",
              " ('tranquillize', 1),\n",
              " ('mind', 60),\n",
              " ('purpose—a', 1),\n",
              " ('point', 13),\n",
              " ('fix', 3),\n",
              " ('dream', 8),\n",
              " ('years.', 9),\n",
              " ('read', 26),\n",
              " ('ardour', 9),\n",
              " ('accounts', 3),\n",
              " ('voyages', 3),\n",
              " ('arriving', 1),\n",
              " ('North', 2),\n",
              " ('Pacific', 1),\n",
              " ('pole.', 2),\n",
              " ('purposes', 3),\n",
              " ('good', 24),\n",
              " ('Uncle', 2),\n",
              " (\"Thomas'\", 2),\n",
              " ('library.', 1),\n",
              " ('was', 992),\n",
              " ('neglected,', 2),\n",
              " ('yet', 109),\n",
              " ('fond', 6),\n",
              " ('reading.', 1),\n",
              " ('volumes', 2),\n",
              " ('them', 76),\n",
              " ('increased', 10),\n",
              " ('regret', 6),\n",
              " ('felt,', 4),\n",
              " ('learning', 1),\n",
              " ('injunction', 1),\n",
              " ('allow', 12),\n",
              " ('seafaring', 1),\n",
              " ('life.', 18),\n",
              " ('perused,', 1),\n",
              " ('poets', 2),\n",
              " ('whose', 50),\n",
              " ('effusions', 1),\n",
              " ('entranced', 1),\n",
              " ('lifted', 1),\n",
              " ('poet', 1),\n",
              " ('year', 6),\n",
              " ('lived', 14),\n",
              " ('own', 96),\n",
              " ('obtain', 6),\n",
              " ('where', 74),\n",
              " ('names', 13),\n",
              " ('Homer', 1),\n",
              " ('Shakespeare', 1),\n",
              " ('consecrated.', 1),\n",
              " ('acquainted', 17),\n",
              " ('heavily', 2),\n",
              " ('cousin,', 5),\n",
              " ('turned', 24),\n",
              " ('into', 124),\n",
              " ('bent.', 1),\n",
              " ('Six', 3),\n",
              " ('years', 29),\n",
              " ('passed', 59),\n",
              " ('can,', 2),\n",
              " ('even', 81),\n",
              " ('dedicated', 2),\n",
              " ('myself', 105),\n",
              " ('commenced', 3),\n",
              " ('inuring', 1),\n",
              " ('whale-fishers', 1),\n",
              " ('several', 43),\n",
              " ('expeditions', 1),\n",
              " ('Sea;', 1),\n",
              " ('famine,', 1),\n",
              " ('thirst,', 6),\n",
              " ('worked', 8),\n",
              " ('than', 109),\n",
              " ('common', 5),\n",
              " ('during', 49),\n",
              " ('devoted', 13),\n",
              " ('nights', 4),\n",
              " ('branches', 7),\n",
              " ('science', 18),\n",
              " ('naval', 1),\n",
              " ('derive', 2),\n",
              " ('greatest', 27),\n",
              " ('under-mate', 1),\n",
              " ('must', 63),\n",
              " ('felt', 72),\n",
              " ('offered', 2),\n",
              " ('entreated', 6),\n",
              " ('earnestness,', 1),\n",
              " ('consider', 8),\n",
              " ('And', 31),\n",
              " ('do', 87),\n",
              " ('deserve', 2),\n",
              " ('but', 538),\n",
              " ('preferred', 1),\n",
              " ('glory', 5),\n",
              " ('enticement', 1),\n",
              " ('wealth', 5),\n",
              " ('placed', 27),\n",
              " ('path.', 3),\n",
              " ('Oh,', 10),\n",
              " ('would', 177),\n",
              " ('firm;', 1),\n",
              " ('spirits', 19),\n",
              " ('depressed.', 1),\n",
              " ('proceed', 5),\n",
              " ('long', 44),\n",
              " ('emergencies', 1),\n",
              " ('demand', 6),\n",
              " ('fortitude:', 1),\n",
              " ('others,', 7),\n",
              " ('sometimes', 36),\n",
              " ('theirs', 1),\n",
              " ('failing.', 1),\n",
              " ('favourable', 6),\n",
              " ('period', 15),\n",
              " ('travelling', 1),\n",
              " ('They', 34),\n",
              " ('fly', 7),\n",
              " ('quickly', 25),\n",
              " ('sledges;', 1),\n",
              " ('motion', 4),\n",
              " ('opinion,', 2),\n",
              " ('agreeable', 5),\n",
              " ('English', 5),\n",
              " ('wrapped', 4),\n",
              " ('dress', 5),\n",
              " ('remaining', 6),\n",
              " ('seated', 3),\n",
              " ('motionless', 2),\n",
              " ('exercise', 4),\n",
              " ('prevents', 2),\n",
              " ('freezing', 1),\n",
              " ('veins.', 1),\n",
              " ('ambition', 4),\n",
              " ('lose', 7),\n",
              " ('post-road', 1),\n",
              " ('Petersburgh', 1),\n",
              " ('depart', 4),\n",
              " ('latter', 11),\n",
              " ('three', 10),\n",
              " ('weeks;', 1),\n",
              " ('intention', 2),\n",
              " ('hire', 1),\n",
              " ('there,', 5),\n",
              " ('easily', 18),\n",
              " ('paying', 1),\n",
              " ('insurance', 1),\n",
              " ('engage', 3),\n",
              " ('think', 25),\n",
              " ('accustomed', 8),\n",
              " ('whale-fishing.', 1),\n",
              " ('until', 49),\n",
              " ('month', 7),\n",
              " ('Ah,', 1),\n",
              " ('question?', 1),\n",
              " ('succeed,', 1),\n",
              " ('many,', 1),\n",
              " ('months,', 6),\n",
              " ('perhaps', 14),\n",
              " ('years,', 5),\n",
              " ('pass', 15),\n",
              " ('fail,', 1),\n",
              " ('again', 63),\n",
              " ('never.', 1),\n",
              " ('Farewell,', 3),\n",
              " ('excellent', 13),\n",
              " ('Margaret.', 2),\n",
              " ('Heaven', 3),\n",
              " ('down', 31),\n",
              " ('blessings', 2),\n",
              " ('save', 5),\n",
              " ('gratitude', 7),\n",
              " ('love', 41),\n",
              " ('R.', 1),\n",
              " ('Archangel,', 2),\n",
              " ('here,', 3),\n",
              " ('encompassed', 4),\n",
              " ('snow!', 1),\n",
              " ('step', 5),\n",
              " ('engaged', 11),\n",
              " ('appear', 17),\n",
              " ('certainly', 11),\n",
              " ('dauntless', 2),\n",
              " ('able', 9),\n",
              " ('now', 130),\n",
              " ('Margaret:', 1),\n",
              " ('none', 16),\n",
              " ('disappointment,', 1),\n",
              " ('dejection.', 2),\n",
              " ('commit', 3),\n",
              " ('paper,', 1),\n",
              " ('poor', 34),\n",
              " ('medium', 1),\n",
              " ('sympathize', 3),\n",
              " ('eyes', 63),\n",
              " ('deem', 1),\n",
              " ('romantic,', 2),\n",
              " ('bitterly', 4),\n",
              " ('friend.', 8),\n",
              " ('gentle', 30),\n",
              " ('courageous,', 1),\n",
              " ('cultivated', 2),\n",
              " ('capacious', 1),\n",
              " ('like', 58),\n",
              " ('amend', 1),\n",
              " ('repair', 1),\n",
              " ('brother!', 1),\n",
              " ('execution', 7),\n",
              " ('impatient', 4),\n",
              " ('difficulties.', 2),\n",
              " ('ran', 7),\n",
              " ('wild', 12),\n",
              " ('books', 9),\n",
              " ('voyages.', 1),\n",
              " ('At', 25),\n",
              " ('celebrated', 2),\n",
              " ('benefits', 1),\n",
              " ('perceived', 24),\n",
              " ('necessity', 3),\n",
              " ('becoming', 4),\n",
              " ('country.', 14),\n",
              " ('Now', 5),\n",
              " ('twenty-eight', 1),\n",
              " ('fifteen.', 1),\n",
              " ('It', 86),\n",
              " ('true', 10),\n",
              " ('thought', 65),\n",
              " ('(as', 1),\n",
              " ('painters', 1),\n",
              " ('call', 13),\n",
              " ('KEEPING;', 1),\n",
              " ('ocean,', 3),\n",
              " ('nor', 31),\n",
              " ('merchants', 1),\n",
              " ('unallied', 1),\n",
              " ('dross', 1),\n",
              " ('human', 54),\n",
              " ('beat', 5),\n",
              " ('rugged', 4),\n",
              " ('instance,', 1),\n",
              " ('wonderful', 15),\n",
              " ('enterprise;', 1),\n",
              " ('madly', 1),\n",
              " ('desirous', 3),\n",
              " ('glory,', 1),\n",
              " ('phrase', 1),\n",
              " ('characteristically,', 1),\n",
              " ('advancement', 1),\n",
              " ('profession.', 1),\n",
              " ('midst', 3),\n",
              " ('professional', 1),\n",
              " ('prejudices,', 1),\n",
              " ('cultivation,', 1),\n",
              " ('noblest', 1),\n",
              " ('endowments', 1),\n",
              " ('humanity.', 1),\n",
              " ('board', 5),\n",
              " ('vessel;', 1),\n",
              " ('unemployed', 1),\n",
              " ('master', 5),\n",
              " ('person', 17),\n",
              " ('mildness', 3),\n",
              " ('discipline.', 1),\n",
              " ('added', 7),\n",
              " ('integrity', 3),\n",
              " ('courage,', 3),\n",
              " ('very', 72),\n",
              " ('solitude,', 1),\n",
              " ('best', 11),\n",
              " ('fosterage,', 1),\n",
              " ('refined', 3),\n",
              " ('groundwork', 1),\n",
              " ('intense', 5),\n",
              " ('distaste', 1),\n",
              " ('usual', 4),\n",
              " ('brutality', 2),\n",
              " ('exercised', 2),\n",
              " ('believed', 12),\n",
              " ('necessary,', 4),\n",
              " ('heard', 56),\n",
              " ('mariner', 1),\n",
              " ('equally', 4),\n",
              " ('obedience', 1),\n",
              " ('paid', 6),\n",
              " ('crew,', 1),\n",
              " ('fortunate', 7),\n",
              " ('rather', 24),\n",
              " ('romantic', 2),\n",
              " ('lady', 5),\n",
              " ('happiness', 30),\n",
              " ('her', 313),\n",
              " ('This,', 3),\n",
              " ('briefly,', 1),\n",
              " ('ago', 2),\n",
              " ('loved', 24),\n",
              " ('young', 26),\n",
              " ('Russian', 1),\n",
              " ('moderate', 3),\n",
              " ('amassed', 1),\n",
              " ('sum', 5),\n",
              " ('prize-money,', 1),\n",
              " ('father', 73),\n",
              " ('once', 26),\n",
              " ('destined', 5),\n",
              " ('ceremony;', 1),\n",
              " ('tears,', 4),\n",
              " ('feet,', 1),\n",
              " ('spare', 2),\n",
              " ('her,', 24),\n",
              " ('confessing', 1),\n",
              " ('poor,', 3),\n",
              " ('suppliant,', 1),\n",
              " ('name', 15),\n",
              " ('lover,', 2),\n",
              " ('pursuit.', 4),\n",
              " ('bought', 3),\n",
              " ('money,', 4),\n",
              " ('designed', 1),\n",
              " ('remainder', 5),\n",
              " ('life;', 6),\n",
              " ('prize-money', 1),\n",
              " ('purchase', 1),\n",
              " ('stock,', 1),\n",
              " ('marriage', 13),\n",
              " ('lover.', 1),\n",
              " ('decidedly', 1),\n",
              " ('refused,', 2),\n",
              " ('honour', 9),\n",
              " ('inexorable,', 1),\n",
              " ('quitted', 22),\n",
              " ('country,', 13),\n",
              " ('married', 3),\n",
              " ('inclinations.', 2),\n",
              " ('\"What', 4),\n",
              " ('noble', 11),\n",
              " ('fellow!\"', 2),\n",
              " ('so;', 4),\n",
              " ('kind', 28),\n",
              " ('attends', 1),\n",
              " ('renders', 4),\n",
              " ('astonishing,', 1),\n",
              " ('interest', 13),\n",
              " ('command.', 1),\n",
              " ('complain', 1),\n",
              " ('wavering', 1),\n",
              " ('delayed', 5),\n",
              " ('weather', 5),\n",
              " ('severe,', 2),\n",
              " ('promises', 2),\n",
              " ('well,', 3),\n",
              " ('considered', 10),\n",
              " ('remarkably', 3),\n",
              " ('rashly:', 1),\n",
              " ('know', 38),\n",
              " ('sufficiently', 3),\n",
              " ('confide', 4),\n",
              " ('prudence', 1),\n",
              " ('others', 15),\n",
              " ('describe', 13),\n",
              " ('impossible', 3),\n",
              " ('communicate', 2),\n",
              " ('conception', 4),\n",
              " ('pleasurable', 2),\n",
              " ('preparing', 4),\n",
              " ('depart.', 1),\n",
              " ('regions,', 1),\n",
              " ('\"the', 4),\n",
              " ('kill', 2),\n",
              " ('albatross;', 1),\n",
              " ('alarmed', 6),\n",
              " ('\"Ancient', 2),\n",
              " ('allusion,', 1),\n",
              " ('disclose', 3),\n",
              " ('attachment', 4),\n",
              " ('passionate', 3),\n",
              " ('mysteries', 2),\n",
              " ('ocean', 4),\n",
              " ('production', 1),\n",
              " ('modern', 10),\n",
              " ('poets.', 1),\n",
              " ('something', 15),\n",
              " ('work', 21),\n",
              " ('workman', 1),\n",
              " ('execute', 3),\n",
              " ('perseverance', 2),\n",
              " ('marvellous,', 2),\n",
              " ('belief', 3),\n",
              " ('hurries', 1),\n",
              " ('out', 32),\n",
              " ('pathways', 1),\n",
              " ('men,', 9),\n",
              " ('sea', 16),\n",
              " ('unvisited', 1),\n",
              " ('explore.', 1),\n",
              " ('dearer', 5),\n",
              " ('considerations.', 1),\n",
              " ('meet', 8),\n",
              " ('again,', 9),\n",
              " ('after', 55),\n",
              " ('immense', 5),\n",
              " ('seas,', 2),\n",
              " ('America?', 1),\n",
              " ('dare', 13),\n",
              " ('bear', 6),\n",
              " ('look', 18),\n",
              " ('reverse', 2),\n",
              " ('letters', 12),\n",
              " ('occasions', 1),\n",
              " ('support', 8),\n",
              " ('tenderly.', 2),\n",
              " ('Remember', 4),\n",
              " ('July', 1),\n",
              " ('Sister,', 2),\n",
              " ('haste', 1),\n",
              " ('say', 14),\n",
              " ('safe—and', 2),\n",
              " ('letter', 17),\n",
              " ('homeward', 1),\n",
              " ('Archangel;', 1),\n",
              " ('land,', 2),\n",
              " ('am,', 5),\n",
              " ('however,', 22),\n",
              " ('spirits:', 1),\n",
              " ('apparently', 10),\n",
              " ('purpose,', 5),\n",
              " ('floating', 1),\n",
              " ('ice', 22),\n",
              " ('continually', 17),\n",
              " ('dangers', 4),\n",
              " ('them.', 17),\n",
              " ('reached', 7),\n",
              " ('high', 16),\n",
              " ('although', 49),\n",
              " ('gales,', 1),\n",
              " ('us', 33),\n",
              " ('shores', 4),\n",
              " ('ardently', 10),\n",
              " ('renovating', 1),\n",
              " ('incidents', 6),\n",
              " ('befallen', 3),\n",
              " ('make', 32),\n",
              " ('figure', 8),\n",
              " ('One', 16),\n",
              " ('two', 32),\n",
              " ('gales', 1),\n",
              " ('leak', 1),\n",
              " ('accidents', 4),\n",
              " ('worse', 3),\n",
              " ('happen', 1),\n",
              " ('assured', 8),\n",
              " ('sake,', 4),\n",
              " ('encounter', 5),\n",
              " ('danger.', 2),\n",
              " ('cool,', 1),\n",
              " ('persevering,', 1),\n",
              " ('SHALL', 2),\n",
              " ('endeavours.', 1),\n",
              " ('Thus', 14),\n",
              " ('tracing', 1),\n",
              " ('way', 15),\n",
              " ('pathless', 1),\n",
              " ('themselves', 8),\n",
              " ('testimonies', 1),\n",
              " ('triumph.', 1),\n",
              " ('stop', 1),\n",
              " ('determined', 16),\n",
              " ('swelling', 3),\n",
              " ('involuntarily', 2),\n",
              " ('finish.', 1),\n",
              " ('beloved', 22),\n",
              " ('sister!', 1),\n",
              " ('4', 2),\n",
              " ('strange', 28),\n",
              " ('happened', 7),\n",
              " ('forbear', 2),\n",
              " ('recording', 3),\n",
              " ('it,', 30),\n",
              " ('papers', 7),\n",
              " ('possession.', 1),\n",
              " ('Last', 1),\n",
              " ('Monday', 1),\n",
              " ('ice,', 11),\n",
              " ('floated.', 1),\n",
              " ('situation', 4),\n",
              " ('somewhat', 5),\n",
              " ('especially', 3),\n",
              " ('round', 9),\n",
              " ('thick', 7),\n",
              " ('fog.', 1),\n",
              " ('change', 25),\n",
              " ('take', 20),\n",
              " ('About', 6),\n",
              " (\"o'clock\", 3),\n",
              " ('direction,', 1),\n",
              " ('seemed', 36),\n",
              " ('anxious', 5),\n",
              " ('suddenly', 22),\n",
              " ('attracted', 6),\n",
              " ('diverted', 2),\n",
              " ('situation.', 2),\n",
              " ('low', 5),\n",
              " ('sledge', 8),\n",
              " ('distance', 9),\n",
              " ('shape', 5),\n",
              " ('stature,', 5),\n",
              " ('sat', 24),\n",
              " ('guided', 4),\n",
              " ('rapid', 4),\n",
              " ('progress', 13),\n",
              " ('traveller', 4),\n",
              " ('telescopes', 1),\n",
              " ('lost', 26),\n",
              " ('distant', 7),\n",
              " ('appearance', 23),\n",
              " ('unqualified', 1),\n",
              " ('miles', 6),\n",
              " ('apparition', 4),\n",
              " ('track,', 1),\n",
              " ('attention.', 3),\n",
              " ('hours', 26),\n",
              " ('ground', 12),\n",
              " ('night', 55),\n",
              " ('freed', 4),\n",
              " ('We,', 1),\n",
              " ('fearing', 3),\n",
              " ('dark', 22),\n",
              " ('large', 7),\n",
              " ('loose', 7),\n",
              " ('masses', 1),\n",
              " ('rest', 17),\n",
              " ('hours.', 2),\n",
              " ('light,', 4),\n",
              " ('vessel,', 1),\n",
              " ('talking', 2),\n",
              " ('sea.', 1),\n",
              " ('sledge,', 3),\n",
              " ('seen', 15),\n",
              " ('before,', 9),\n",
              " ('drifted', 1),\n",
              " ('enter', 17),\n",
              " ('other', 69),\n",
              " ('savage', 3),\n",
              " ('inhabitant', 1),\n",
              " ('island,', 2),\n",
              " ('European.', 1),\n",
              " ('When', 47),\n",
              " ('captain,', 1),\n",
              " ('open', 9),\n",
              " ('perceiving', 6),\n",
              " ('English,', 3),\n",
              " ('foreign', 2),\n",
              " ('accent.', 1),\n",
              " ('said', 68),\n",
              " ('he,', 18),\n",
              " ('\"will', 2),\n",
              " ('bound?\"', 1),\n",
              " ('hearing', 6),\n",
              " ('question', 3),\n",
              " ('destruction', 11),\n",
              " ('resource', 2),\n",
              " ('precious', 3),\n",
              " ('earth', 15),\n",
              " ('Upon', 2),\n",
              " ('Good', 4),\n",
              " ('God!', 8),\n",
              " ('thus', 35),\n",
              " ('capitulated', 1),\n",
              " ('safety,', 1),\n",
              " ('frozen,', 1),\n",
              " ('emaciated', 3),\n",
              " ('fatigue', 6),\n",
              " ('suffering.', 1),\n",
              " ('condition.', 2),\n",
              " ('attempted', 9),\n",
              " ('carry', 2),\n",
              " ('restored', 13),\n",
              " ('animation', 4),\n",
              " ('quantity.', 1),\n",
              " ('showed', 7),\n",
              " ('signs', 5),\n",
              " ('blankets', 1),\n",
              " ('degrees', 7),\n",
              " ('recovered', 12),\n",
              " ('wonderfully.', 1),\n",
              " ('Two', 5),\n",
              " ('days', 33),\n",
              " ('feared', 13),\n",
              " ('deprived', 9),\n",
              " ('understanding.', 1),\n",
              " ('measure', 3),\n",
              " ('removed', 4),\n",
              " ('cabin', 4),\n",
              " ('duty', 9),\n",
              " ('permit.', 1),\n",
              " ('interesting', 5),\n",
              " ('creature:', 1),\n",
              " ('expression', 12),\n",
              " ('wildness,', 1),\n",
              " ('madness,', 1),\n",
              " ('when,', 12),\n",
              " ('anyone', 3),\n",
              " ('performs', 1),\n",
              " ('act', 10),\n",
              " ('service,', 2),\n",
              " ('sweetness', 2),\n",
              " ('equalled.', 2),\n",
              " ('melancholy', 13),\n",
              " ('despairing,', 1),\n",
              " ('gnashes', 1),\n",
              " ('guest', 6),\n",
              " ('trouble', 3),\n",
              " ('ask', 10),\n",
              " ('tormented', 4),\n",
              " ('curiosity,', 3),\n",
              " ('state', 21),\n",
              " ('restoration', 1),\n",
              " ('evidently', 3),\n",
              " ('entire', 3),\n",
              " ('repose.', 1),\n",
              " ('why', 13),\n",
              " ('vehicle.', 1),\n",
              " ('assumed', 5),\n",
              " ('aspect', 7),\n",
              " ('deepest', 2),\n",
              " ('gloom,', 2),\n",
              " ('\"To', 2),\n",
              " ('\"And', 6),\n",
              " ('\"Yes.\"', 1),\n",
              " ('fancy', 7),\n",
              " ('picked', 1),\n",
              " ('dogs', 4),\n",
              " ('drawing', 5),\n",
              " ('aroused', 1),\n",
              " ('multitude', 6),\n",
              " ('questions', 4),\n",
              " ('route', 1),\n",
              " ('demon,', 1),\n",
              " ('Soon', 8),\n",
              " ('\"I', 71),\n",
              " ('doubtless,', 1),\n",
              " ('people;', 1),\n",
              " ('considerate', 1),\n",
              " ('indeed', 40),\n",
              " ('rescued', 1),\n",
              " ('perilous', 1),\n",
              " ('situation;', 1),\n",
              " ('benevolently', 1),\n",
              " ('destroyed', 16),\n",
              " ('judge.', 1),\n",
              " ('new', 37),\n",
              " ('spirit', 26),\n",
              " ('frame', 6),\n",
              " ('eagerness', 4),\n",
              " ('watch', 8),\n",
              " ('rawness', 1),\n",
              " ('promised', 12),\n",
              " ('give', 20),\n",
              " ('instant', 11),\n",
              " ('sight.', 2),\n",
              " ('Such', 12),\n",
              " ('relates', 3),\n",
              " ('gradually', 5),\n",
              " ('improved', 6),\n",
              " ('appears', 6),\n",
              " ('uneasy', 3),\n",
              " ('enters', 1),\n",
              " ('conciliating', 2),\n",
              " ('interested', 4),\n",
              " ('part,', 5),\n",
              " ('compassion.', 4),\n",
              " ('creature', 27),\n",
              " ('days,', 7),\n",
              " ('wreck', 3),\n",
              " ('letters,', 3),\n",
              " ('brother', 6),\n",
              " ('record.', 1),\n",
              " ('excites', 1),\n",
              " ('admiration', 9),\n",
              " ('pity', 8),\n",
              " ('astonishing', 6),\n",
              " ('degree.', 2),\n",
              " ('poignant', 2),\n",
              " ('grief?', 2),\n",
              " ('wise;', 1),\n",
              " ('speaks,', 2),\n",
              " ('watching', 12),\n",
              " ('own.', 6),\n",
              " ('Yet,', 5),\n",
              " ('unhappy,', 4),\n",
              " ('interests', 2),\n",
              " ('projects', 1),\n",
              " ('others.', 2),\n",
              " ('conversed', 3),\n",
              " ('disguise.', 1),\n",
              " ('entered', 27),\n",
              " ('attentively', 1),\n",
              " ('arguments', 6),\n",
              " ('detail', 7),\n",
              " ('it.', 40),\n",
              " ('led', 16),\n",
              " ('use', 9),\n",
              " ('language', 9),\n",
              " ('burning', 10),\n",
              " ('sacrifice', 4),\n",
              " ('existence,', 4),\n",
              " ('furtherance', 1),\n",
              " ('price', 1),\n",
              " ('pay', 3),\n",
              " ('acquirement', 2),\n",
              " ('knowledge', 22),\n",
              " ('sought,', 1),\n",
              " ('dominion', 1),\n",
              " ('acquire', 2),\n",
              " ('transmit', 1),\n",
              " ('foes', 1),\n",
              " ('race.', 2),\n",
              " ('gloom', 7),\n",
              " ('tried', 13),\n",
              " ('suppress', 2),\n",
              " ('emotion;', 1),\n",
              " ('quivered', 1),\n",
              " ('failed', 6),\n",
              " ('beheld', 30),\n",
              " ('tears', 18),\n",
              " ('groan', 2),\n",
              " ('burst', 8),\n",
              " ('heaving', 1),\n",
              " ('length', 25),\n",
              " ('accents:', 1),\n",
              " ('\"Unhappy', 1),\n",
              " ('share', 4),\n",
              " ('madness?', 1),\n",
              " ('intoxicating', 1),\n",
              " ('Hear', 3),\n",
              " ('let', 20),\n",
              " ('reveal', 2),\n",
              " ('tale,', 5),\n",
              " ('cup', 3),\n",
              " ('lips!\"', 1),\n",
              " ('imagine,', 1),\n",
              " ('strongly', 7),\n",
              " ('paroxysm', 1),\n",
              " ('powers,', 4),\n",
              " ('repose', 4),\n",
              " ('conversation', 14),\n",
              " ('composure.', 1),\n",
              " ('conquered', 2),\n",
              " ('passion;', 1),\n",
              " ('quelling', 1),\n",
              " ('tyranny', 1),\n",
              " ('trains', 1),\n",
              " ('spoke', 18),\n",
              " ('thirst', 7),\n",
              " ('intimate', 3),\n",
              " ('you,\"', 6),\n",
              " ('unfashioned', 1),\n",
              " ('wiser,', 1),\n",
              " ('better,', 1),\n",
              " ('ought', 13),\n",
              " ('be—do', 1),\n",
              " ('natures.', 1),\n",
              " ('entitled,', 1),\n",
              " ('therefore,', 26),\n",
              " ('respecting', 1),\n",
              " ('cause', 28),\n",
              " ('despair.', 15),\n",
              " ('everything', 3),\n",
              " ('calm,', 2),\n",
              " ('settled', 2),\n",
              " ('touched', 4),\n",
              " ('retired', 14),\n",
              " ('is,', 5),\n",
              " ('beauties', 3),\n",
              " ('nature.', 4),\n",
              " ('existence:', 1),\n",
              " ('suffer', 9),\n",
              " ('overwhelmed', 5),\n",
              " ('disappointments,', 1),\n",
              " ('halo', 1),\n",
              " ('around', 29),\n",
              " ('circle', 2),\n",
              " ('ventures.', 1),\n",
              " ('Will', 2),\n",
              " ('tutored', 1),\n",
              " ('retirement', 1),\n",
              " ('world,', 8),\n",
              " ('fastidious;', 1),\n",
              " ('quality', 2),\n",
              " ('immeasurably', 1),\n",
              " ('above', 11),\n",
              " ('knew.', 1),\n",
              " ('believe', 25),\n",
              " ('quick', 6),\n",
              " ('judgment,', 1),\n",
              " ('penetration', 1),\n",
              " ('causes', 4),\n",
              " ('things,', 2),\n",
              " ('unequalled', 1),\n",
              " ('clearness', 1),\n",
              " ('Yesterday', 1),\n",
              " ('misfortunes.', 5),\n",
              " ('evils', 2),\n",
              " ('die', 10),\n",
              " ('did;', 1),\n",
              " ('wishes', 5),\n",
              " ('serpent', 1),\n",
              " ('been.', 4),\n",
              " ('relation', 4),\n",
              " ('useful', 4),\n",
              " ('yet,', 6),\n",
              " ('reflect', 14),\n",
              " ('course,', 2),\n",
              " ('exposing', 1),\n",
              " ('console', 7),\n",
              " ('deemed', 4),\n",
              " ('unbelief,', 1),\n",
              " ('ridicule;', 1),\n",
              " ('things', 5),\n",
              " ('possible', 8),\n",
              " ('mysterious', 3),\n",
              " ('provoke', 1),\n",
              " ('unacquainted', 4),\n",
              " ('ever-varied', 1),\n",
              " ('nature;', 4),\n",
              " ('conveys', 1),\n",
              " ('series', 5),\n",
              " ('internal', 2),\n",
              " ('evidence', 5),\n",
              " ('composed.\"', 1),\n",
              " ('gratified', 2),\n",
              " ('communication,', 1),\n",
              " ('endure', 12),\n",
              " ('renew', 5),\n",
              " ('narrative,', 1),\n",
              " ('partly', 8),\n",
              " ('answer.', 5),\n",
              " ('sympathy,', 2),\n",
              " ('fulfilled.', 1),\n",
              " ('event,', 2),\n",
              " ('peace.', 7),\n",
              " ('feeling,\"', 1),\n",
              " ('continued', 24),\n",
              " ('him;', 8),\n",
              " ('\"but', 2),\n",
              " ('mistaken,', 1),\n",
              " ('history,', 3),\n",
              " ('irrevocably', 2),\n",
              " ('told', 13),\n",
              " ('narrative', 3),\n",
              " ('thanks.', 1),\n",
              " ('imperatively', 1),\n",
              " ('related', 10),\n",
              " ('engaged,', 5),\n",
              " ('notes.', 1),\n",
              " ('afford', 8),\n",
              " ...]"
            ]
          },
          "metadata": {},
          "execution_count": 17
        }
      ]
    },
    {
      "cell_type": "markdown",
      "metadata": {
        "id": "034ZWkexhXQF"
      },
      "source": [
        "### Exercise 4\n",
        "Get TOP 10 of the words with more than 4 characters\n",
        "\n",
        "---\n",
        "\n"
      ]
    },
    {
      "cell_type": "code",
      "metadata": {
        "id": "5QjYLZ0MgJ1_",
        "colab": {
          "base_uri": "https://localhost:8080/"
        },
        "outputId": "999bba86-1b99-48bc-e844-3eac2d5a5ee6"
      },
      "source": [
        "lines = spark.sparkContext.textFile(\"/dataset/frankenstein.txt\")\n",
        "\n",
        "lines.flatMap(lambda line: line.split(\" \")) \\\n",
        "    .filter (lambda word: len(word)>4)\\\n",
        "    .map(lambda word: (word, 1)) \\\n",
        "    .reduceByKey(lambda a, b: a + b)\\\n",
        "    .map(lambda word: (word[1], word[0]))\\\n",
        "    .sortByKey(False)\\\n",
        "    .take(10)"
      ],
      "execution_count": 19,
      "outputs": [
        {
          "output_type": "execute_result",
          "data": {
            "text/plain": [
              "[(540, 'which'),\n",
              " (187, 'could'),\n",
              " (177, 'would'),\n",
              " (174, 'their'),\n",
              " (152, 'should'),\n",
              " (130, 'these'),\n",
              " (122, 'before'),\n",
              " (107, 'might'),\n",
              " (105, 'myself'),\n",
              " (103, 'every')]"
            ]
          },
          "metadata": {},
          "execution_count": 19
        }
      ]
    },
    {
      "cell_type": "markdown",
      "metadata": {
        "id": "6IqqLY6PRtGg"
      },
      "source": [
        "## Key/Value Pair RDD\n",
        "\n",
        "---\n",
        "\n"
      ]
    },
    {
      "cell_type": "markdown",
      "metadata": {
        "id": "Qq6NhwCXRl7n"
      },
      "source": [
        "### Example 6\n",
        "\n",
        "\n",
        "---\n",
        "\n"
      ]
    },
    {
      "cell_type": "code",
      "metadata": {
        "id": "R04SZu82R1ui"
      },
      "source": [
        "charac_sw = spark.sparkContext.textFile(\"/dataset/characters.csv\")\n",
        "planets_sw = spark.sparkContext.textFile(\"/dataset/planets.csv\")\n",
        "charac_sw.take(10)"
      ],
      "execution_count": null,
      "outputs": []
    },
    {
      "cell_type": "code",
      "metadata": {
        "id": "_fuMXUgnS_Rb"
      },
      "source": [
        "planets_sw.take(10)"
      ],
      "execution_count": null,
      "outputs": []
    },
    {
      "cell_type": "code",
      "metadata": {
        "id": "xbYKGuvxPiqb"
      },
      "source": [
        "from itertools import islice\n",
        "\n",
        "charac_sw_noheader = charac_sw.mapPartitionsWithIndex(\n",
        "    lambda idx, it: islice(it, 1, None) if idx == 0 else it)\n",
        "\n",
        "planets_sw_noheader = planets_sw.mapPartitionsWithIndex(\n",
        "    lambda idx, it: islice(it, 1, None) if idx == 0 else it)"
      ],
      "execution_count": null,
      "outputs": []
    },
    {
      "cell_type": "markdown",
      "metadata": {
        "id": "m1BEEwqpTREy"
      },
      "source": [
        "### Exercise 5\n",
        "Get a list of the population of the planet each Star Wars character belongs to\n",
        "\n",
        "---\n"
      ]
    },
    {
      "cell_type": "code",
      "metadata": {
        "id": "Lo0dq-QrU0MU"
      },
      "source": [
        ""
      ],
      "execution_count": null,
      "outputs": []
    }
  ]
}